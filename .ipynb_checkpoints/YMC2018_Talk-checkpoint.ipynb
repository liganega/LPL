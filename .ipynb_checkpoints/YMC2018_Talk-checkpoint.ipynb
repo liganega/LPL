{
 "cells": [
  {
   "cell_type": "markdown",
   "metadata": {},
   "source": [
    "# 토론 주제: 진리, 논리, 수학, 그리고 컴퓨터\n",
    "\n",
    "1. <a href=\"#sec:Truth\">진리의 상대성과 절대성</a>\n",
    "    * 디멘션 게임에서의 진리\n",
    "    * 일상에서의 진리\n",
    "    * 수학적 진리\n",
    "    * 상대적 진리와 절대적 진리\n",
    "<br>\n",
    "<br>\n",
    "* <a href=\"#sec:Logic\">논리와 진리</a>\n",
    "    * 수학의 토대\n",
    "    * 로지코믹스 소개\n",
    "<br>\n",
    "<br>\n",
    "* <a href=\"#sec:Computability\">계산가능성</a>\n",
    "    * 튜링머신\n",
    "    * 정지 문제\n",
    "    * 이론 vs. 실용성\n",
    "    * 계산가능성과 증명가능성\n",
    "<br>\n",
    "<br>\n",
    "* <a href=\"#sec:Reals\">실수연산의 한계</a>\n",
    "    * 어이 없는 실수연산 예제\n",
    "    * 실수연산 한계의 치명성\n",
    "<br>\n",
    "<br>\n",
    "* <a href=\"#sec:ComMath\">컴퓨터 수학의 활용</a>\n",
    "    * 복잡한 계산 실행\n",
    "    * 알파고와 수학\n",
    "    * 자동증명기"
   ]
  },
  {
   "cell_type": "markdown",
   "metadata": {},
   "source": [
    "# <a id=\"sec:Truth\">진리의 상대성과 절대성</a>"
   ]
  },
  {
   "cell_type": "markdown",
   "metadata": {},
   "source": [
    "## 디멘션 게임에서의 진리\n",
    "\n",
    "* 제시된 카드와 구현된 디멘션 모델과의 관계"
   ]
  },
  {
   "cell_type": "markdown",
   "metadata": {},
   "source": [
    "<p>\n",
    "<table>\n",
    "<tr>\n",
    "<td>\n",
    "<img src=\"images/dimension01.jpg\", width=400>\n",
    "</td>\n",
    "</tr>\n",
    "</table>\n",
    "</p>\n",
    "\n",
    "출처: <a href=\"https://www.amazon.com/Dimension-Spherical-Stackable-Paced-Puzzle/dp/B00T0GY3U8/ref=sr_1_1?ie=UTF8&qid=1515461269&sr=8-1&keywords=dimension+game\">여기</a>"
   ]
  },
  {
   "cell_type": "markdown",
   "metadata": {},
   "source": [
    "## 일상에서의 진리\n",
    "\n",
    "* 지구는 태양을 중심으로 돈다.\n",
    "    * 프톨레마이오스(85~165)의 천동설\n",
    "    * 코페르니쿠스(1473~1543)의 지동설\n",
    "* 지구는 둥글다.\n",
    "    * 갈릴레이(1564~1642)"
   ]
  },
  {
   "cell_type": "markdown",
   "metadata": {},
   "source": [
    "### 예제: 코페르니쿠스, 갈릴레이, 뉴튼\n",
    "\n",
    "* 아래 링크 참조\n",
    "\n",
    "http://www.picturebook-illust.com/san_kr/popup_gallery_viewer.asp?idx=1041579&mem_id=max610&mode=next&searchkeyword=useTag&searchvalue=%20%C1%F6%B1%B8&searchnm=%"
   ]
  },
  {
   "cell_type": "markdown",
   "metadata": {},
   "source": [
    "### 예제: 에셔의 전망대(1958)"
   ]
  },
  {
   "cell_type": "markdown",
   "metadata": {},
   "source": [
    "<p>\n",
    "<table>\n",
    "<tr>\n",
    "<td>\n",
    "<img src=\"images/esher_stairs02.jpg\", width=400>\n",
    "</td>\n",
    "</tr>\n",
    "</table>\n",
    "</p>\n",
    "\n",
    "출처: <a href=\"https://frieze.com/article/add-infinitum\">여기</a>"
   ]
  },
  {
   "cell_type": "markdown",
   "metadata": {},
   "source": [
    "<p>\n",
    "<table>\n",
    "<tr>\n",
    "<td>\n",
    "<img src=\"images/esher_stairs01.gif\", width=400>\n",
    "</td>\n",
    "</tr>\n",
    "</table>\n",
    "</p>\n",
    "\n",
    "출처: <a href=\"https://giphy.com/gifs/inception-anyone-stairs-4U3lKFsBgHmcU\">여기</a>"
   ]
  },
  {
   "cell_type": "markdown",
   "metadata": {},
   "source": [
    "## 수학적 진리"
   ]
  },
  {
   "cell_type": "markdown",
   "metadata": {},
   "source": [
    "* 수학은 절대적 진리를 추구한다!"
   ]
  },
  {
   "cell_type": "markdown",
   "metadata": {},
   "source": [
    "### 예제: 요하네스 케플러(1561~1630)\n",
    "\n",
    "* 행성운동법칙"
   ]
  },
  {
   "cell_type": "markdown",
   "metadata": {},
   "source": [
    "<html>\n",
    "<img src=\"images/kepler01.png\", width=500>\n",
    "</html>\n",
    "\n",
    "출처: <a href=\"https://m.blog.naver.com/PostView.nhn?blogId=soonenghelper&logNo=220723890983&proxyReferer=https%3A%2F%2Fwww.google.co.kr%2F\">여기</a>"
   ]
  },
  {
   "cell_type": "markdown",
   "metadata": {},
   "source": [
    "<html>\n",
    "<img src=\"images/kepler02.png\" width=300>\n",
    "</html>\n",
    "\n",
    "출처: <a href=\"https://ko.wikipedia.org/wiki/케플러의_행성운동법칙\">여기</a>"
   ]
  },
  {
   "cell_type": "markdown",
   "metadata": {},
   "source": [
    "## 상대적 진리와 절대적 진리\n",
    "\n",
    "아래 주장에 대해 어떻게 생각하나?\n",
    "\n",
    "* 상대적 진리란 절대적 진리의 일부 측면이다. 변증법 과정을 통해 절대적 진리에 조금씩 다가간다."
   ]
  },
  {
   "cell_type": "markdown",
   "metadata": {},
   "source": [
    "# <a id=\"sec:Logic\">논리와 진리</a>"
   ]
  },
  {
   "cell_type": "markdown",
   "metadata": {},
   "source": [
    "## 수학의 토대\n",
    "\n",
    "* 19세기 후반 이전: 논증의 수단 역할\n",
    "    * 철학적 논증\n",
    "    * 삼단논법: 전제와 결론의 관계\n",
    "    * 기하학: 피타고라스 정리 \n",
    "* 19세기 후반 이후: 수학의 토대 제공 수단 역할\n",
    "    * 힐버트 프로그램\n",
    "        * 모든 수학적 진리를 찾아낼 수 있는 논리 체계 구축\n",
    "        * 1925년 전후\n",
    "    * 괴델의 불완전성 정리\n",
    "        * 힐버트 프로그램은 절대 불가능\n",
    "        * 1931년\n",
    "    * 1960년대 이후 컴퓨터 수학의 토대 제공"
   ]
  },
  {
   "cell_type": "markdown",
   "metadata": {},
   "source": [
    "## 로지코믹스 소개\n",
    "\n",
    "* 버트런드 러셀의 삶과 진리추구의 여정을 만화 형식으로 전달하는 소설\n",
    "* 20세기 전후에 이루어진 수학자, 철학자들의 절대적 진리에 대한 탐구 소개\n",
    "* 저자: 아포스톨로스 독시아디스\n",
    "* 옮긴이: 전대호\n",
    "* 출판사: 랜덤하우스코리아"
   ]
  },
  {
   "cell_type": "markdown",
   "metadata": {},
   "source": [
    "<html>\n",
    "<img src=\"images/logikomics.jpg\" width=300>\n",
    "</html>"
   ]
  },
  {
   "cell_type": "markdown",
   "metadata": {},
   "source": [
    "# <a id=\"sec:Computability\">계산가능성(Computability)</a>"
   ]
  },
  {
   "cell_type": "markdown",
   "metadata": {},
   "source": [
    "* 컴퓨터로 해결할 수 있는 문제들의 한계에 대한 질문\n",
    "* 수학에서 증명이 가능한 문제들의 한계와 밀접하게 관련됨."
   ]
  },
  {
   "cell_type": "markdown",
   "metadata": {},
   "source": [
    "## 튜링머신\n",
    "\n",
    "* 앨런 튜링Alan Turing(1912~1954)\n",
    "    * 컴퓨터로 어떻게 계산을 하는가에 대한 모델 및 이론 제공    "
   ]
  },
  {
   "cell_type": "markdown",
   "metadata": {},
   "source": [
    "<html>\n",
    "<img src=\"images/turing01.jpg\", width=300>\n",
    "</html>\n",
    "\n",
    "출처: <a href=\"https://ko.wikipedia.org/wiki/앨런_튜링\">여기</a>"
   ]
  },
  {
   "cell_type": "markdown",
   "metadata": {},
   "source": [
    "* 튜링의 삶은 영화 \"이미테이션 게임\"을 통해 약간 엿볼 수 있음\n",
    "    * 예를 들어, 튜링은 사회적 진리의 피해를 받았음.\n",
    "\n",
    "<html>\n",
    "<img src=\"images/turing02.jpg\", width=400>\n",
    "</html>\n",
    "\n",
    "출처: <a href=\"http://www.thisisgame.com/webzine/nboard/212/?n=58218\">여기</a>"
   ]
  },
  {
   "cell_type": "markdown",
   "metadata": {},
   "source": [
    "* 계산가능성 한계\n",
    "    * 아직까지는 튜링머신을 뛰어넘는 계산 이론 존재하지 않음\n",
    "    * 인공지능, 양자컴퓨터도 동일한 한계를 가짐"
   ]
  },
  {
   "cell_type": "markdown",
   "metadata": {},
   "source": [
    "### 범용 튜링기계(Universal Turing Machine)\n",
    "\n",
    "* 프로그램과 어떤 값을 입력값으로 넣어 주면 해당 프로그램이 주어진 값을 이용할 때 어떤 결과를 내는지를 확인하는 기계\n",
    "* 답을 항상 주지는 못한다.\n",
    "* 항상 답을 주는 범용 튜링기계는 불가능하다.\n",
    "    * 정지 문제의 핵심 내용임."
   ]
  },
  {
   "cell_type": "markdown",
   "metadata": {},
   "source": [
    "<html>\n",
    "<img src=\"images/turing03.png\", width=500>\n",
    "</html>\n",
    "\n",
    "출처: <a href=\"https://en.wikipedia.org/wiki/Universal_Turing_machine\">여기</a>"
   ]
  },
  {
   "cell_type": "markdown",
   "metadata": {},
   "source": [
    "## 정지 문제(Halting Problem)\n",
    "\n",
    "* 항상 답을 주는 범용 튜링기계는 불가능하다.\n",
    "* 괴델의 불완전성 정리를 계산가능성 이론으로 입증한 문제임."
   ]
  },
  {
   "cell_type": "markdown",
   "metadata": {},
   "source": [
    "<html>\n",
    "<img src=\"images/turing04.jpg\", width=400>\n",
    "</html>\n",
    "\n",
    "출처: <a href=\"https://feross.org/halting-problem-poem/\">여기</a>"
   ]
  },
  {
   "cell_type": "markdown",
   "metadata": {},
   "source": [
    "### 관련 추천 도서\n",
    "\n",
    "* 수학자, 컴퓨터를 만들다 - 라이프니츠에서 튜링까지\n",
    "    * 저자: 마틴 데이비스\n",
    "    * 옮긴이: 박정일, 장영태\n",
    "    * 출판사: 지식의풍경\n",
    "    * 추천사이트: https://brunch.co.kr/@joongilkim/73\n",
    "<html>\n",
    "<img src=\"images/turing05.jpg\", width=200>\n",
    "</html>    "
   ]
  },
  {
   "cell_type": "markdown",
   "metadata": {},
   "source": [
    "## 이론 vs. 실용성"
   ]
  },
  {
   "cell_type": "markdown",
   "metadata": {},
   "source": [
    "* 어떤 계산이 이론적으로 가능하다고 해서 실용적으로 사용할 수 있는 것은 아니다."
   ]
  },
  {
   "cell_type": "markdown",
   "metadata": {},
   "source": [
    "### 예제: 웹서핑"
   ]
  },
  {
   "cell_type": "markdown",
   "metadata": {},
   "source": [
    "* 인터넷 웹서핑을 할 때 5초 이상 기다리는가?\n",
    "* 버스 라디오에서 나오는 노래의 제목과 가수를 알고자 할 때 검색하는 데 걸려야 할 시간은 몇 초 이내?"
   ]
  },
  {
   "cell_type": "markdown",
   "metadata": {},
   "source": [
    "<html>\n",
    "<img src=\"images/web01.jpg\", width=500>\n",
    "</html>\n",
    "\n",
    "출처: <a href=\"http://cfile5.uf.tistory.com/image/236E224E533AE21503A568\">여기</a>"
   ]
  },
  {
   "cell_type": "markdown",
   "metadata": {},
   "source": [
    "### 예제: 외판원 문제(Salesman Problem)\n",
    "\n",
    "* 택배 배달원의 고민\n",
    "* 모든 택배들을 가장 짧은 거리로 배달하는 경로는?\n",
    "    * 주의: 시간 및 교통량 무시\n",
    "* 즉, 2차원 지도상에 표시된 모든 점들을 모두 방문하기 위한 최단 거리의 경로 찾기\n",
    "* 매우 어려운 문제임. 현재까지 알려진 알고리즘은 점들의 개수에 지수승에 비례하는 시간이 걸리는 알고리즘이 일반적임.\n",
    "* 100만불(약, 12억원) 상금이 걸린 문제와 깊이 연관됨.\n",
    "    * Clay Math Institute에서 밀레니엄 상금 문제중의 하나와 깊이 연관됨\n",
    "    * http://www.claymath.org/millennium-problems/millennium-prize-problems"
   ]
  },
  {
   "cell_type": "markdown",
   "metadata": {},
   "source": [
    "<html>\n",
    "<img src=\"images/salesman01.png\", width=300>\n",
    "</html>\n",
    "\n",
    "출처: <a href=\"https://en.wikipedia.org/wiki/Travelling_salesman_problem\">여기</a>"
   ]
  },
  {
   "cell_type": "markdown",
   "metadata": {},
   "source": [
    "## 계산가능성과 증명가능성\n",
    "\n",
    "* 모든 수학적 증명에는 계산이 포함됨.\n",
    "* 계산\n",
    "    * 사칙연산, 미적분 등과 더불어\n",
    "    * 컴퓨터 프로그램처럼 입력값이 주어질 때 결과값을 생성하기 위한 과정도 포함\n",
    "* 튜링 이후 계산가능성과 증명가능성이 매우 밀접한 관계를 가짐이 입증됨\n",
    "* 1960년대 이후 컴퓨터수학의 발전으로 이루어짐"
   ]
  },
  {
   "cell_type": "markdown",
   "metadata": {},
   "source": [
    "# <a id=\"sec:Reals\">실수연산의 한계</a>"
   ]
  },
  {
   "cell_type": "markdown",
   "metadata": {},
   "source": [
    "## 어이없는 실수연산 예제\n",
    "\n",
    "* 아래 코드는 파이썬(Python)이라는 프로그래밍언어로 작성한 코드임.\n",
    "* 하지만 다른 언어로 구현해도 비슷한 결과가 나옴."
   ]
  },
  {
   "cell_type": "markdown",
   "metadata": {},
   "source": [
    "* 코드 내용\n",
    "    * x, y는 각각 0으로 초기화됨.\n",
    "    * x의 경우 \n",
    "        * 먼저 b의 값인 $10^{-11}$을 백만 번 더함.\n",
    "        * 이후에 a값인 백만을 추가로 더함.\n",
    "    * y의 경우 \n",
    "        * 먼저 a값인 백만을 더함.        \n",
    "        * 이후에 추가로 b의 값인 $10^{-11}$을 백만 번 더함."
   ]
  },
  {
   "cell_type": "code",
   "execution_count": 1,
   "metadata": {
    "collapsed": true
   },
   "outputs": [],
   "source": [
    "a = 1000000.0\n",
    "b = 0.00000000001\n",
    "x, y = 0.0, 0.0\n",
    "\n",
    "for i in range(1000000):\n",
    "    x += b\n",
    "x += a\n",
    "\n",
    "y += a\n",
    "for i in range(1000000):\n",
    "    y += b"
   ]
  },
  {
   "cell_type": "markdown",
   "metadata": {},
   "source": [
    "수학적으로 x와 y는 동일한 값을 가져야 한다. \n",
    "그런데 그렇지 못한 결과를 보여준다.\n",
    "어떤 이유로 해서 x가 y보다 크다고 컴퓨터는 말한다."
   ]
  },
  {
   "cell_type": "code",
   "execution_count": 2,
   "metadata": {},
   "outputs": [
    {
     "name": "stdout",
     "output_type": "stream",
     "text": [
      "False\n",
      "False\n",
      "True\n"
     ]
    }
   ],
   "source": [
    "print(y == x)    \n",
    "print(y > x)    \n",
    "print(y < x)    "
   ]
  },
  {
   "cell_type": "markdown",
   "metadata": {},
   "source": [
    "아래 예제는 좀 더 심각하다. \n",
    "\n",
    "* x의 값은 동일하게 둔다.\n",
    "* 반면에 y에 a를 더한 후에, b를 반복해서 천만번 더해준다.\n",
    "\n",
    "그런데도 여전히 x가 y보다 크다고 말한다."
   ]
  },
  {
   "cell_type": "code",
   "execution_count": 3,
   "metadata": {
    "collapsed": true
   },
   "outputs": [],
   "source": [
    "a = 1000000.0\n",
    "b = 0.00000000001\n",
    "x, y = 0.0, 0.0\n",
    "\n",
    "for i in range(1000000):\n",
    "    x += b\n",
    "x += a\n",
    "\n",
    "y += a\n",
    "for i in range(10000000):\n",
    "    y += b"
   ]
  },
  {
   "cell_type": "code",
   "execution_count": 4,
   "metadata": {},
   "outputs": [
    {
     "name": "stdout",
     "output_type": "stream",
     "text": [
      "False\n",
      "False\n",
      "True\n"
     ]
    }
   ],
   "source": [
    "print(y == x)    \n",
    "print(y > x)    \n",
    "print(y < x)    "
   ]
  },
  {
   "cell_type": "markdown",
   "metadata": {},
   "source": [
    "## 실수연산 한계의 치명성"
   ]
  },
  {
   "cell_type": "markdown",
   "metadata": {},
   "source": [
    "* 패트리어트 미사일 실패\n",
    "    * 1991년 2월 25일\n",
    "    * 걸프전쟁 중에 이라크의 스커드 미사일 요격에 실패. \n",
    "    * 스커드 미사일이 미군 기지 타격. 28명 사망, 100여명 부상\n",
    "    * 원인: 속도 계산 과정에서의 실수연산 오류\n",
    "        * 음속의 3~5배로 나르는 미사일을 잡기 위해서 시간을 경우에 따라 \n",
    "            몇 천분, 몇 만분, 몇 십만분의 일초 단위로 계산해야 함. "
   ]
  },
  {
   "cell_type": "markdown",
   "metadata": {},
   "source": [
    "<html>\n",
    "<img src=\"images/patriot01.jpg\", width=400>\n",
    "</html>\n",
    "\n",
    "출처: <a href=\"http://www-labs.iro.umontreal.ca/~mignotte/IFT2425/Disasters.html\">여기</a>"
   ]
  },
  {
   "cell_type": "markdown",
   "metadata": {},
   "source": [
    "* 아리안 5호기 폭발\n",
    "    * 1996년 6월 4일\n",
    "    * 유럽연합에서 쏘아올린 무인 우주발사체\n",
    "    * 출발 후 40초 지나 폭발\n",
    "    * 비용: 70억 달러(약, 8조 원)\n",
    "    * 원인: 속도 계산 과정에서의 실수연산 오류"
   ]
  },
  {
   "cell_type": "markdown",
   "metadata": {},
   "source": [
    "<html>\n",
    "<img src=\"images/ariane.jpg\", width=500>\n",
    "</html>\n",
    "\n",
    "출처: <a href=\"http://www-labs.iro.umontreal.ca/~mignotte/IFT2425/Disasters.html\">여기</a>"
   ]
  },
  {
   "cell_type": "markdown",
   "metadata": {},
   "source": [
    "# <a id=\"sec:ComMath\">컴퓨터수학의 활용</a>\n",
    "\n",
    "* 컴퓨터를 이용한 반례 찾기\n",
    "* 긴 시간동안 참이라고 믿어진 문제가 거짓으로 판명되는 예제 등등"
   ]
  },
  {
   "cell_type": "markdown",
   "metadata": {},
   "source": [
    "## 복잡한 계산 실행\n",
    "\n",
    "* 계산기부터 다양한 수학 전용 소프트웨어 존재\n",
    "* 매스매티가, 메이플 등등\n",
    "* 하지만 조심해야 함.\n",
    "* 모든 소프트웨어는 버그를 갖고 있으며 경우에 따라 매우 치명적임\n",
    "    * 예: http://www.ams.org/notices/201410/rnoti-p1249.pdf\n",
    "    * 실수연산 문제 아님"
   ]
  },
  {
   "cell_type": "markdown",
   "metadata": {},
   "source": [
    "## 알파고와 수학\n",
    "\n",
    "* 인공지능 알파고의 바둑 수준이 인간을 넘어섬."
   ]
  },
  {
   "cell_type": "markdown",
   "metadata": {},
   "source": [
    "<html>\n",
    "<img src=\"images/alphago01.JPG\", width=500>\n",
    "</html>"
   ]
  },
  {
   "cell_type": "markdown",
   "metadata": {},
   "source": [
    "* 알파고: 몬테카를로 트리 탐색 알고리즘 활용\n",
    "    * 조합론, 게임이론 분야"
   ]
  },
  {
   "cell_type": "markdown",
   "metadata": {},
   "source": [
    "### 인공지능의 한계\n",
    "* 로저 펜로즈(1931~)\n",
    "    * 영국 출신 물리학자, 수학자\n",
    "    * 인간과 똑같아질 수 없다 라고 주장\n",
    "        * 책: 황제의 새마음"
   ]
  },
  {
   "cell_type": "markdown",
   "metadata": {},
   "source": [
    "## 자동증명기\n",
    "\n",
    "* 모든 수학적 증명을 자동으로 해결하는 컴퓨터 프로그램 가능?\n",
    "* 괴델의 불완전성 정리에 의해 애초부터 불가능\n",
    "* 하지만 사람이 풀 수 있는 수학문제라면 컴퓨터도 풀 수 있음.\n",
    "* 질문: 사람이 못 푸는 문제를 컴퓨터가 풀 수 있을까? \n",
    "    * 케플러의 추측에 대한 증명 참조"
   ]
  },
  {
   "cell_type": "markdown",
   "metadata": {},
   "source": [
    "### 케플러의 추측\n",
    "\n",
    "* 요하네스 케플러가 1611년에 제시\n",
    "* 상자에 동일 크기의 구를 가장 밀집하게 넣는 방법은 시장에서의 과일쌓기 방식이다."
   ]
  },
  {
   "cell_type": "markdown",
   "metadata": {},
   "source": [
    "<html>\n",
    "<img src=\"images/kepler03.jpg\", width=400>\n",
    "</html>"
   ]
  },
  {
   "cell_type": "markdown",
   "metadata": {},
   "source": [
    "#### 증명\n",
    "\n",
    "* 가우스의 증명\n",
    "    * 1831년, 규칙적인 격자모양인 경우 참\n",
    "    * 최대 밀도: $\\frac{\\pi}{3\\sqrt{2}}\\simeq 0.74048$\n",
    "* 토마스 헤일즈의 증명\n",
    "    * 1998년, 규칙적인 격자모양이 아니어도 케플러 추측이 참.\n",
    "    * 250쪽의 논문, 3기가바이트 크기의 컴퓨터 데이터\n",
    "    * 5년의 심사기간 후, 99%만 인정됨.\n",
    "    * 컴퓨터 코드를 검증하지 못함\n",
    "    * 헤일스 스스로 10년에 걸쳐 컴퓨터 코드도 검증함.\n",
    "    * 2017년 6월 100% 인정됨\n",
    "        * https://www.cambridge.org/core/journals/forum-of-mathematics-pi/article/formal-proof-of-the-kepler-conjecture/78FBD5E1A3D1BCCB8E0D5B0C463C9FBC"
   ]
  }
 ],
 "metadata": {
  "kernelspec": {
   "display_name": "Python 2",
   "language": "python",
   "name": "python2"
  },
  "language_info": {
   "codemirror_mode": {
    "name": "ipython",
    "version": 2
   },
   "file_extension": ".py",
   "mimetype": "text/x-python",
   "name": "python",
   "nbconvert_exporter": "python",
   "pygments_lexer": "ipython2",
   "version": "2.7.13"
  }
 },
 "nbformat": 4,
 "nbformat_minor": 2
}
