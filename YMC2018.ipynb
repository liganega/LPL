{
 "cells": [
  {
   "cell_type": "markdown",
   "metadata": {},
   "source": [
    "# 주의사항\n",
    "\n",
    "* TW Exercise Files 폴더를 다른 곳에 복사해서 저장할 것.\n",
    "    * 예: 바탕화면"
   ]
  },
  {
   "cell_type": "markdown",
   "metadata": {},
   "source": [
    "# 1. Tarski's World  사용법 및 단순명제"
   ]
  },
  {
   "cell_type": "markdown",
   "metadata": {},
   "source": [
    "## Tarski's World 사용법 1"
   ]
  },
  {
   "cell_type": "markdown",
   "metadata": {},
   "source": [
    "* You try it (p. 24)\n",
    "* Tarski's World 첫 실행\n",
    "* 단순명제 해석 방법 소개\n",
    "\n",
    "\n",
    "1. Wittgenstein's World와 Wittgenstein's Sentences 실행\n",
    "1. 단순명제들의 진리값 확인\n",
    "    * 우측 상단에 위치한 T/F 버튼 이용\n",
    "    * 월드 부분을 수정한 후 진리값의 변화 확인\n",
    "    * 예: Adjoins 명제가 모두 False임. 일부 True가 되도록 수정할 것.\n",
    "        * Large 블록은 서로 붙어있을 수 없음을 확인\n",
    "    * 예: Between의 의미가 일상에서와 다름\n",
    "        * 동일한 줄, 열, 또는 대각선 상에 위치해야 함.\n",
    "1. 타스키 월드 사용법 및 단순명제 각각의 의미 확인\n",
    "1. 주석(코멘트)은 세미콜론(\";\")으로 시작하며 실행과는 무관"
   ]
  },
  {
   "cell_type": "markdown",
   "metadata": {},
   "source": [
    "## 단순명제\n",
    "\n",
    "* 술어predicate와 적절한 수의 인자들을 활용하여 만든 명제\n",
    "    * LeftOf(a, b)\n",
    "    * Between(a, b, c) 등등\n",
    "* 인자들의 순서가 중요함\n",
    "    * LeftOf(a, b)와 LeftOf(b, a)는 의미가 다름.\n",
    "* 술어가 일반적으로 맨 앞에 위치함. \n",
    "    * 예외: 등호(\"=\") 술어는 두 개의 인자 사이에 위치\n",
    "    * a = b\n",
    "    * Wittenstein's Sentences에 추가해서 확인해볼 것"
   ]
  },
  {
   "cell_type": "markdown",
   "metadata": {},
   "source": [
    "## 연습문제\n",
    "\n",
    "* p.25: 1.2\n",
    "* p.26: 1.4"
   ]
  },
  {
   "cell_type": "markdown",
   "metadata": {},
   "source": [
    "# 2. 주장과 반례"
   ]
  },
  {
   "cell_type": "markdown",
   "metadata": {},
   "source": [
    "## Tarski's World 사용법 2\n",
    "\n",
    "* You try it(p. 64)\n",
    "* 논리추론 연습\n",
    "\n",
    "\n",
    "1. Bill's Argument 열기\n",
    "1. 마지막 명제가 첫 세 개의 명로로부터 추론되는지 여부 판단하기\n",
    "    * 즉, 첫 세 개의 명제가 참이라고 가정할 때, 마지막 명제도 참이되는지 여부 판단\n",
    "    * 먼저 머리로 판단하기\n",
    "1. 새로운 월드(New World) 창을 생성하여 실험하기\n",
    "    * 네 개의 블록을 생성한 후 각각에 a, b, c, d 이름 명명하기\n",
    "    * 주의사항\n",
    "        * 하나의 블록에 여러 개의 이름 명명 가능\n",
    "        * 하지만 동일한 이름을 여러 개의 블록에는 사용 못함\n",
    "        * 여기서는 네 개의 블록이 각각 다른 이름 갖도록 함\n",
    "1. 네 개의 블록들의 위치를 임의로 변경한 후 세 개의 전제들이 모두 참이되도록 만들 것\n",
    "1. 세 개의 전제가 모두 참인데 결론은 거짓이 되는 월드가 존재하는지 계속해서 실험할 것\n",
    "    * 만약 그런 월드를 찾는다면 World Counterexample 1이란 파일명으로 저장할 것"
   ]
  },
  {
   "cell_type": "markdown",
   "metadata": {},
   "source": [
    "## 용어 설명\n",
    "\n",
    "* Premise: 전제\n",
    "* Consclusion: 결론\n",
    "* Argument: 주장"
   ]
  },
  {
   "cell_type": "markdown",
   "metadata": {},
   "source": [
    "## 주장과 반례\n",
    "\n",
    "* 주장이란?\n",
    "    * 전제가 참이면 결론도 참이라고 말하는 것\n",
    "    * 전제는 1개 이상의 명제들로 구성됨\n",
    "    * 결론은 1개의 명제로 구성됨\n",
    "* \"전제로부터 결론이 따라온다\"란?\n",
    "    * 전제에 포함된 모든 명제들이 참이면 결론도 무조건 참이되는 경우\n",
    "* \"전제로부터 결로이 반드시 따라오는 것은 아니다\"란? \n",
    "    * 전제가 모두 참이지만 결론은 거짓인 경우\n",
    "* 반례\n",
    "    * 전제가 모두 참이지만 결론이 거짓이 되는 경우를 의미\n",
    "    * 여기서는 Tarski's World에서 구현된 어떤 월드를 의미함.\n",
    "* 어떤 주장이 거짓임을 보이는 과정\n",
    "    * 전제가 모두 참이지만, 결론은 거짓인 월드 생성\n",
    "* 어떤 주장이 참임을 보이는 과정\n",
    "    * 보다 어려움\n",
    "    * 어떤 월드에서든, 전제가 모두 참이면 결론도 반드시 참이다라는 것을 입증할 수 있어야 함.\n",
    "    * 즉, 어떤 월드에서든 전제가 모두 참일 수 없거나, 만약에 모두 참이라면 결론도 참이다라는 것을 보여야 함.\n",
    "    * 그런데 어떻데 모든 월드를 대상으로 삼을 수 있나?\n",
    "        * 매우 어려운 질문임\n",
    "        * 괴델의 완전성 정리와 깊이 연관됨.\n",
    "        * 정형증명 방식을 활용하기도 함, 예를 들어, Fitch, Coq 등 컴퓨터 소프트웨어 활용"
   ]
  },
  {
   "cell_type": "markdown",
   "metadata": {},
   "source": [
    "## 연습문제\n",
    "\n",
    "* p. 66: 2.24 ~ 2.27"
   ]
  },
  {
   "cell_type": "markdown",
   "metadata": {},
   "source": [
    "# 3. 논리연산자\n",
    "\n",
    "* 논리연산자를 이용하여 보다 복잡한 명제를 생성한다.\n",
    "* \"부정\" 연산자\n",
    "* \"그리고\" 연산자\n",
    "* \"또는\" 연산자"
   ]
  },
  {
   "cell_type": "markdown",
   "metadata": {},
   "source": [
    "## 3.1 부정 연산자: \"$\\neg$\"\n",
    "* 형식: $\\neg$P\n",
    "* \"... 가 아니다\", \"... 하지 않다\" 등 어떤 명제의 부정을 표현할 때 사용\n",
    "* P가 명제일 때 $\\neg$P의 진리값은 P의 진리값을 부정하면 된다.\n",
    "* 진리값을 부정하는 방식은 다음과 같다.\n",
    "$$\\begin{array}{|c|c|}\n",
    "\\hline\n",
    "\\text{P} & \\neg \\text{P}\\\\ \\hline\n",
    "\\text{True} & \\text{False}\\\\\n",
    "\\text{False} & \\text{True}\\\\\n",
    "\\hline\n",
    "\\end{array}\n",
    "$$"
   ]
  },
  {
   "cell_type": "markdown",
   "metadata": {},
   "source": [
    "### 예제\n",
    "\n",
    "* p.69: You try it\n",
    "\n",
    "\n",
    "1. Wittgenstein's World 열기\n",
    "1. 새로운 sentence 파일 열기\n",
    "1. 아래 명제의 진리값 추정하기\n",
    "$$\\neg\\neg\\neg\\neg\\neg\\text{Between(e, d, f)}$$\n",
    "1. 추정값이 맞는지 확인하기 위해 게임 실행\n",
    "    * 우측 상단에 있는 Play Game 버튼 누름\n",
    "    * 게임요령\n",
    "        * 먼저 진리값의 추정치 선택\n",
    "        * 선택된 결과에 따라 다음 게임이 진행됨\n",
    "        * 단계마다 컴퓨터의 요구사항에 맞추어 여러 선택을 해야 함.\n",
    "        * 컴퓨터 또는 사용자가 이길 때까지 게임 진행됨.\n",
    "        * 이후에 게임에 대한 보다 자세한 설명 예정"
   ]
  },
  {
   "cell_type": "markdown",
   "metadata": {},
   "source": [
    "### 연속적으로 사용된 부정 연산자 다루기\n",
    "\n",
    "* 기본 원칙: 부정의 부정은 긍정이다!\n",
    "* 연속적으로 두 번 사용된 부정은 삭제 가능\n",
    "* 결국 부정이 연속적으로 짝수 개수만큼 사용된 것은 삭제 가능\n",
    "* 예: $\\neg\\neg\\neg\\neg\\neg\\text{Between(e, d, f)}$ 와 $\\neg$Between(e, d, f)은 동일한 진리값 가짐"
   ]
  },
  {
   "cell_type": "markdown",
   "metadata": {},
   "source": [
    "### 연습문제\n",
    "\n",
    "* Exc 3.3 (P. 70)"
   ]
  },
  {
   "cell_type": "markdown",
   "metadata": {},
   "source": [
    "## 3.2 \"그리고\" 연산자: \"$\\wedge$\"\n",
    "* 형식: P $\\wedge$ Q\n",
    "* 두 개의 명제가 동시에 참이다라고 주장할 때 사용\n",
    "* 두 개의 명제 P와 Q가 동시에 참이 되려면 P도 참이고, Q도 참이면 된다.\n",
    "* P $\\wedge$ Q의 진리값은 아래 표에 따라 결졍된다.\n",
    "$$\\begin{array}{|c|c|c|}\n",
    "\\hline\n",
    "\\text{P} & \\text{Q} & \\text{P}\\wedge\\text{Q}\\\\ \\hline\n",
    "\\text{True} & \\text{True} & \\text{True}\\\\\n",
    "\\text{True} & \\text{False} & \\text{False}\\\\\n",
    "\\text{False} & \\text{True} & \\text{False}\\\\\n",
    "\\text{False} & \\text{False} & \\text{False}\\\\\n",
    "\\hline\n",
    "\\end{array}\n",
    "$$"
   ]
  },
  {
   "cell_type": "markdown",
   "metadata": {},
   "source": [
    "### 예제\n",
    "\n",
    "* You trye it(P.72)\n",
    "\n",
    "\n",
    "1. Claire's World 열기\n",
    "1. 새로운 명제 파일 열기\n",
    "1. 아래 문장의 진리값 추정하기\n",
    "$$\\neg\\text{Cube(a)} \\wedge \\neg\\text{Cube(b)} \\wedge \\neg\\text{Cube(c)}$$\n",
    "1. 추정값이 맞는지 확인하기 위해 게임 실행\n",
    "    * 추정값이 맞아도 게임에 질 수 있음\n",
    "    * 게임진행이 이상할 경우 Back 버턴을 눌러 이전 단계로 되돌릴 수 있음\n",
    "    * Tarski's World는 절대로 실수하지 않음"
   ]
  },
  {
   "cell_type": "markdown",
   "metadata": {},
   "source": [
    "### 연습문제\n",
    "\n",
    "* Exc. 3.7 (P. 74)"
   ]
  },
  {
   "cell_type": "markdown",
   "metadata": {},
   "source": [
    "## 3.3 \"또는\" 연산자: \"$\\vee$\"\n",
    "* 형식: P $\\vee$ Q\n",
    "* 두 개의 명제 중에 적어도 하나가 참이다라고 주장할 때 사용\n",
    "* 두 개의 명제 P와 Q 중에 적어도 하나가 참이 되려면 P가 참이거나 Q가 참이면 된다.\n",
    "    * 주의: 둘 다 참이어도 된다.\n",
    "* P $\\vee$ Q의 진리값은 아래 표에 따라 결졍된다.\n",
    "$$\\begin{array}{|c|c|c|}\n",
    "\\hline\n",
    "\\text{P} & \\text{Q} & \\text{P}\\vee\\text{Q}\\\\ \\hline\n",
    "\\text{True} & \\text{True} & \\text{True}\\\\\n",
    "\\text{True} & \\text{False} & \\text{True}\\\\\n",
    "\\text{False} & \\text{True} & \\text{True}\\\\\n",
    "\\text{False} & \\text{False} & \\text{False}\\\\\n",
    "\\hline\n",
    "\\end{array}\n",
    "$$"
   ]
  },
  {
   "cell_type": "markdown",
   "metadata": {},
   "source": [
    "### 예제\n",
    "\n",
    "* You trye it(P.76)\n",
    "\n",
    "\n",
    "1. Ackermann's World 열기\n",
    "1. 새로운 명제 파일 열기\n",
    "1. 아래 문장의 진리값 추정하기\n",
    "$$\\text{Cube(c)} \\vee \\neg(\\text{Cube(a)} \\vee \\text{Cube(b)})$$\n",
    "1. 추정값이 맞는지 확인하기 위해 게임 실행"
   ]
  },
  {
   "cell_type": "markdown",
   "metadata": {},
   "source": [
    "### 연습문제\n",
    "\n",
    "* Exc. 3.10 (P. 77)"
   ]
  },
  {
   "cell_type": "markdown",
   "metadata": {},
   "source": [
    "# 4. 게임 관련"
   ]
  },
  {
   "cell_type": "markdown",
   "metadata": {},
   "source": [
    "* 게임 규칙표\n",
    "$$\\begin{array}{|c|c|c|l|}\n",
    "\\hline\n",
    "\\text{형태} & \\text{사용자 추정값} & \\text{선택 당사자} & \\text{다음 단계}\\\\ \\hline\n",
    "\\text{P}\\vee\\text{Q} & \\text{True} & \\text{사용자} & \\text{P, Q 중에 True인 거 선택 후 게임 진행.} \\\\ \n",
    " & \\text{False} & - & \\text{P, Q 각각에 대해 False 추정값 확인 게임 진행하며,} \\\\ \n",
    " & & & \\text{둘 중에 하나가 True이면 사용자가 지도록 유도함.}\\\\\n",
    " \\hline\n",
    "\\text{P}\\wedge\\text{Q} & \\text{True} & - & \\text{P, Q 각각에 대해 True 추정값 확인 게임 진행하며,} \\\\\n",
    " & & & \\text{둘 중에 하나가 False이면 사용자가 지도록 유도함.}\\\\\n",
    " & \\text{False} & \\text{사용자} & \\text{P, Q 중에 False인 거 선택 후 게임 진행}\\\\ \\hline \n",
    "\\neg\\text{P} & \\text{아무거나} & -& \\neg\\text{P를 P로 대체 후 게임 진행.}\\\\\n",
    "\\hline\n",
    "\\end{array}\n",
    "$$\n",
    "\n",
    "\n",
    "* p.79, Exc 3.11\n",
    "* Kleene's World and Sentences"
   ]
  },
  {
   "cell_type": "markdown",
   "metadata": {},
   "source": [
    "# 5. 괄호의 중요성\n",
    "\n",
    "* 복잡한 명제를 다룰 때 괄호에 주의해야 한다. \n",
    "* 예제: 아래 두 명제는 서로 다른 의미를 가진다.\n",
    "$$\\text{P} \\vee (\\text{Q} \\wedge \\text{R}) \\quad\\text{vs}\\quad (\\text{P} \\vee \\text{Q}) \\wedge \\text{R}$$"
   ]
  },
  {
   "cell_type": "markdown",
   "metadata": {},
   "source": [
    "### 예제\n",
    "\n",
    "* Exc 3.14 (P.82)\n",
    "* $\\neg (\\text{Small(a)} \\vee \\text{Small(b)})$는 참이지만 \n",
    "$\\neg \\text{Small(a)} \\vee \\text{Small(b)}$는 거짓이 되는 월드를 생성하라."
   ]
  },
  {
   "cell_type": "markdown",
   "metadata": {},
   "source": [
    "### 예제\n",
    "\n",
    "* Exc 3.15 (P.82)\n",
    "* $\\text{Cube(a)} \\wedge (\\text{Cube(b)} \\vee \\text{Cube(c)})$는 참이지만 \n",
    "$(\\text{Cube(a)} \\wedge (\\text{Cube(b)}) \\vee \\text{Cube(c)}$는 거짓이 되는 월드를 생성하라."
   ]
  },
  {
   "cell_type": "markdown",
   "metadata": {},
   "source": [
    "# 6 조건 연산자: \"$\\to$\"\n",
    "\n",
    "* 형식: P $\\to$ Q\n",
    "* \"P가 참이면 Q도 참이다\" 라고 주장할 때 사용\n",
    "* P $\\wedge$ Q의 진리값은 $\\neg$P $\\vee$ Q의 진리값과 동일.\n",
    "$$\\begin{array}{|c|c|c|}\n",
    "\\hline\n",
    "\\text{P} & \\text{Q} & \\neg\\text{P} \\vee \\text{Q} & \\text{P} \\to\\text{Q}\\\\ \\hline\n",
    "\\text{True} & \\text{True} & \\text{True} & \\text{True}\\\\\n",
    "\\text{True} & \\text{False} & \\text{False} & \\text{False}\\\\\n",
    "\\text{False} & \\text{True} & \\text{True} & \\text{True}\\\\\n",
    "\\text{False} & \\text{False} & \\text{True} & \\text{True}\\\\\n",
    "\\hline\n",
    "\\end{array}\n",
    "$$\n",
    "* Tarski's World에서는 P $\\wedge$ Q를 바로 $\\neg$P $\\vee$ Q로 변환해서 다룸.\n",
    "* 동치연산자(\"$\\leftrightarrow$\")는 조건 연산자를 이용하여 정의됨. 즉,\n",
    "    $\\text{P} \\leftrightarrow \\text{Q}$는 \n",
    "    $(\\text{P} \\to \\text{Q}) \\wedge (\\text{Q} \\to \\text{P})$의\n",
    "    줄임말임.\n",
    "\n",
    "    "
   ]
  },
  {
   "cell_type": "markdown",
   "metadata": {},
   "source": [
    "### 예제\n",
    "\n",
    "* Exc 7.14(P.189)\n",
    "\n",
    "\n",
    "1. Euler's Sentences 열기\n",
    "1. 새로운 월드 열기\n",
    "1. Euler's Sentences의 명제들이 모두 참이되도록 하는 월드 생성하기\n",
    "    * 함께 구현하기"
   ]
  },
  {
   "cell_type": "markdown",
   "metadata": {},
   "source": [
    "### 연습문제\n",
    "\n",
    "* Exc. 7.16 (P. 189)"
   ]
  },
  {
   "cell_type": "markdown",
   "metadata": {},
   "source": [
    "# 조별 발표 게임\n",
    "\n",
    "* 연습문제 풀기"
   ]
  },
  {
   "cell_type": "markdown",
   "metadata": {},
   "source": [
    "# 토론 활용\n",
    "\n",
    "* 진리와 증명가능성\n",
    "* 계산가능성(Computability)\n",
    "* 실수연산의 한계\n",
    "* 아리안5호기 폭발\n",
    "* 이론과 실용의 간극 이야기\n",
    "* 수학 문제: 컴퓨터를 이용한 반례 찾기\n",
    "* 긴 시간동안 참이라고 믿어진 문제가 거짓으로 판명되는 예제 등등\n",
    "* 다양한 에피소드"
   ]
  }
 ],
 "metadata": {
  "kernelspec": {
   "display_name": "Python 2",
   "language": "python",
   "name": "python2"
  },
  "language_info": {
   "codemirror_mode": {
    "name": "ipython",
    "version": 2
   },
   "file_extension": ".py",
   "mimetype": "text/x-python",
   "name": "python",
   "nbconvert_exporter": "python",
   "pygments_lexer": "ipython2",
   "version": "2.7.13"
  }
 },
 "nbformat": 4,
 "nbformat_minor": 2
}
