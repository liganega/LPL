{
 "cells": [
  {
   "cell_type": "markdown",
   "metadata": {},
   "source": [
    "# 주의사항\n",
    "\n",
    "* TW Exercise Files 폴더를 다른 곳에 복사해서 저장할 것.\n",
    "    * 예: 바탕화면"
   ]
  },
  {
   "cell_type": "markdown",
   "metadata": {},
   "source": [
    "# Tarski's World  사용법 및 단순명제"
   ]
  },
  {
   "cell_type": "markdown",
   "metadata": {},
   "source": [
    "## Tarski's World 사용법 1"
   ]
  },
  {
   "cell_type": "markdown",
   "metadata": {},
   "source": [
    "* You try it (p. 24)\n",
    "* Tarski's World 첫 실행\n",
    "* 단순명제 해석 방법 소개\n",
    "\n",
    "\n",
    "1. Wittgenstein's World와 Wittgenstein's Sentences 실행\n",
    "1. 단순명제들의 진리값 확인\n",
    "    * 우측 상단에 위치한 T/F 버튼 이용\n",
    "    * 월드 부분을 수정한 후 진리값의 변화 확인\n",
    "    * 예: Adjoins 명제가 모두 False임. 일부 True가 되도록 수정할 것.\n",
    "        * Large 블록은 서로 붙어있을 수 없음을 확인\n",
    "    * 예: Between의 의미가 일상에서와 다름\n",
    "        * 동일한 줄, 열, 또는 대각선 상에 위치해야 함.\n",
    "1. 타스키 월드 사용법 및 단순명제 각각의 의미 확인\n",
    "1. 주석(코멘트)은 세미콜론(\";\")으로 시작하며 실행과는 무관"
   ]
  },
  {
   "cell_type": "markdown",
   "metadata": {},
   "source": [
    "## 단순명제\n",
    "\n",
    "* 술어predicate와 적절한 수의 인자들을 활용하여 만든 명제\n",
    "    * LeftOf(a, b)\n",
    "    * Between(a, b, c) 등등\n",
    "* 인자들의 순서가 중요함\n",
    "    * LeftOf(a, b)와 LeftOf(b, a)는 의미가 다름.\n",
    "* 술어가 일반적으로 맨 앞에 위치함. \n",
    "    * 예외: 등호(\"=\") 술어는 두 개의 인자 사이에 위치\n",
    "    * a = b\n",
    "    * Wittenstein's Sentences에 추가해서 확인해볼 것"
   ]
  },
  {
   "cell_type": "markdown",
   "metadata": {},
   "source": [
    "# 주장과 반례"
   ]
  },
  {
   "cell_type": "markdown",
   "metadata": {},
   "source": [
    "## Tarski's World 사용법 2\n",
    "\n",
    "* You try it(p. 65)\n",
    "* 논리추론 연습\n",
    "\n",
    "\n",
    "1. Bill's Argument 열기\n",
    "1. 마지막 명제가 첫 세 개의 명로로부터 추론되는지 여부 판단하기\n",
    "    * 즉, 첫 세 개의 명제가 참이라고 가정할 때, 마지막 명제도 참이되는지 여부 판단\n",
    "    * 먼저 머리로 판단하기\n",
    "1. 새로운 월드(New World) 창을 생성하여 실험하기\n",
    "    * 네 개의 블록을 생성한 후 각각에 a, b, c, d 이름 명명하기\n",
    "    * 주의사항\n",
    "        * 하나의 블록에 여러 개의 이름 명명 가능\n",
    "        * 하지만 동일한 이름을 여러 개의 블록에는 사용 못함\n",
    "        * 여기서는 네 개의 블록이 각각 다른 이름 갖도록 함\n",
    "1. 네 개의 블록들의 위치를 임의로 변경한 후 세 개의 전제들이 모두 참이되도록 만들 것\n",
    "1. 세 개의 전제가 모두 참인데 결론은 거짓이 되는 월드가 존재하는지 계속해서 실험할 것\n",
    "    * 만약 그런 월드를 찾는다면 World Counterexample 1이란 파일명으로 저장할 것"
   ]
  },
  {
   "cell_type": "markdown",
   "metadata": {},
   "source": [
    "## 용어 설명\n",
    "\n",
    "* Premise: 전제\n",
    "* Consclusion: 결론\n",
    "* Argument: 주장"
   ]
  },
  {
   "cell_type": "markdown",
   "metadata": {},
   "source": [
    "## 주장과 반례\n",
    "\n",
    "* 주장이란?\n",
    "    * 전제가 참이면 결론도 참이라고 말하는 것\n",
    "    * 전제는 1개 이상의 명제들로 구성됨\n",
    "    * 결론은 1개의 명제로 구성됨\n",
    "* \"전제로부터 결론이 따라온다\"란?\n",
    "    * 전제에 포함된 모든 명제들이 참이면 결론도 무조건 참이되는 경우\n",
    "* \"전제로부터 결로이 반드시 따라오는 것은 아니다\"란? \n",
    "    * 전제가 모두 참이지만 결론은 거짓인 경우\n",
    "* 반례\n",
    "    * 전제가 모두 참이지만 결론이 거짓이 되는 경우를 의미\n",
    "    * 여기서는 Tarski's World에서 구현된 어떤 월드를 의미함.\n",
    "* 어떤 주장이 거짓임을 보이는 과정\n",
    "    * 전제가 모두 참이지만, 결론은 거짓인 월드 생성\n",
    "* 어떤 주장이 참임을 보이는 과정\n",
    "    * 보다 어려움\n",
    "    * 어떤 월드에서든, 전제가 모두 참이면 결론도 반드시 참이다라는 것을 입증할 수 있어야 함.\n",
    "    * 즉, 어떤 월드에서든 전제가 모두 참일 수 없거나, 만약에 모두 참이라면 결론도 참이다라는 것을 보여야 함.\n",
    "    * 그런데 어떻데 모든 월드를 대상으로 삼을 수 있나?\n",
    "        * 매우 어려운 질문임\n",
    "        * 괴델의 완전성 정리와 깊이 연관됨.\n",
    "        * 정형증명 방식을 활용하기도 함, 예를 들어, Fitch, Coq 등 컴퓨터 소프트웨어 활용"
   ]
  },
  {
   "cell_type": "markdown",
   "metadata": {},
   "source": [
    "# 게임 관련"
   ]
  },
  {
   "cell_type": "markdown",
   "metadata": {},
   "source": [
    "1. Kleene's World and Sentences"
   ]
  },
  {
   "cell_type": "markdown",
   "metadata": {},
   "source": [
    "# 명제 공부"
   ]
  },
  {
   "cell_type": "markdown",
   "metadata": {},
   "source": [
    "1. Ackermann's World\n",
    "    * p. 76, You try it\n",
    "1. Boole's World"
   ]
  },
  {
   "cell_type": "markdown",
   "metadata": {},
   "source": [
    "# 양화사 소개"
   ]
  },
  {
   "cell_type": "markdown",
   "metadata": {},
   "source": [
    "1. Claire's World\n",
    "1. Edgar's World and Sentences\n",
    "1. Game World and Sentences"
   ]
  },
  {
   "cell_type": "markdown",
   "metadata": {},
   "source": [
    "# 양화사 공부"
   ]
  },
  {
   "cell_type": "markdown",
   "metadata": {},
   "source": [
    "1. Bolzano's World\n",
    "    * p. 381, Exc 14.3 \n",
    "1. Cantor's World and Sentences"
   ]
  },
  {
   "cell_type": "markdown",
   "metadata": {},
   "source": [
    "# 다중 양화사 공부"
   ]
  },
  {
   "cell_type": "markdown",
   "metadata": {},
   "source": [
    "1. Carroll's World와 Hercule's Sentences\n",
    "1. Konig's World and Mixed Sentences\n",
    "    * p. 304"
   ]
  },
  {
   "cell_type": "markdown",
   "metadata": {},
   "source": [
    "# 조별 발표 게임\n",
    "\n",
    "* 팀별로 어려운 문제 내서 타팀이 해결하도록 하기\n",
    "* 명제의 복잡도 제한: 논리연산자의 개수 제한 방식 활용"
   ]
  },
  {
   "cell_type": "markdown",
   "metadata": {},
   "source": [
    "# 토론 활용\n",
    "\n",
    "* 진리와 증명가능성\n",
    "* 계산가능성(Computability)\n",
    "* 실수연산의 한계\n",
    "* 아리안5호기 폭발\n",
    "* 이론과 실용의 간극 이야기\n",
    "* 수학 문제: 컴퓨터를 이용한 반례 찾기\n",
    "* 긴 시간동안 참이라고 믿어진 문제가 거짓으로 판명되는 예제 등등\n",
    "* 다양한 에피소드"
   ]
  },
  {
   "cell_type": "markdown",
   "metadata": {},
   "source": [
    "# 강의 시간표\n",
    "\n",
    "1. 10:00 - 12:30\n",
    "1. 14:00 - 15:30\n",
    "1. 16:00 - 17:30\n",
    "\n",
    "\n",
    "* 오후 시간에 토론을 한 시간 추가하고 LPL 이야기는 논리연산자 수준에서만 전달하기\n",
    "* 양화사 이야기는 완전히 뺄 것\n",
    "* "
   ]
  },
  {
   "cell_type": "markdown",
   "metadata": {},
   "source": [
    "# 모순에 대해?"
   ]
  }
 ],
 "metadata": {
  "kernelspec": {
   "display_name": "Python 2",
   "language": "python",
   "name": "python2"
  },
  "language_info": {
   "codemirror_mode": {
    "name": "ipython",
    "version": 2
   },
   "file_extension": ".py",
   "mimetype": "text/x-python",
   "name": "python",
   "nbconvert_exporter": "python",
   "pygments_lexer": "ipython2",
   "version": "2.7.13"
  }
 },
 "nbformat": 4,
 "nbformat_minor": 2
}
