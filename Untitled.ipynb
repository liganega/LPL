{
 "cells": [
  {
   "cell_type": "markdown",
   "metadata": {},
   "source": [
    "# You try it 부분 먼저 하고 나중에 연습문젬 추가하면 좋을 듯"
   ]
  },
  {
   "cell_type": "markdown",
   "metadata": {},
   "source": [
    "# 게임 관련"
   ]
  },
  {
   "cell_type": "markdown",
   "metadata": {},
   "source": [
    "1. Kleene's World and Sentences"
   ]
  },
  {
   "cell_type": "markdown",
   "metadata": {},
   "source": [
    "# 명제 공부"
   ]
  },
  {
   "cell_type": "markdown",
   "metadata": {},
   "source": [
    "1. Ackermann's World\n",
    "    * p. 76, You try it\n",
    "1. Boole's World"
   ]
  },
  {
   "cell_type": "markdown",
   "metadata": {},
   "source": [
    "# 양화사 소개"
   ]
  },
  {
   "cell_type": "markdown",
   "metadata": {},
   "source": [
    "1. Claire's World\n",
    "1. Edgar's World and Sentences\n",
    "1. Game World and Sentences"
   ]
  },
  {
   "cell_type": "markdown",
   "metadata": {},
   "source": [
    "# 양화사 공부"
   ]
  },
  {
   "cell_type": "markdown",
   "metadata": {},
   "source": [
    "1. Bolzano's World\n",
    "    * p. 381, Exc 14.3 \n",
    "1. Cantor's World and Sentences"
   ]
  },
  {
   "cell_type": "markdown",
   "metadata": {},
   "source": [
    "# 다중 양화사 공부"
   ]
  },
  {
   "cell_type": "markdown",
   "metadata": {},
   "source": [
    "1. Carroll's World와 Hercule's Sentences\n",
    "1. Konig's World and Mixed Sentences\n",
    "    * p. 304"
   ]
  },
  {
   "cell_type": "markdown",
   "metadata": {},
   "source": [
    "# 조별 발표 게임\n",
    "\n",
    "* 팀별로 어려운 문제 내서 타팀이 해결하도록 하기\n",
    "* 명제의 복잡도 제한: 논리연산자의 개수 제한 방식 활용"
   ]
  },
  {
   "cell_type": "markdown",
   "metadata": {},
   "source": [
    "# 토론 활용\n",
    "\n",
    "* 진리와 증명가능성\n",
    "* 계산가능성(Computability)\n",
    "* 실수연산의 한계\n",
    "* 아리안5호기 폭발\n",
    "* 이론과 실용의 간극 이야기\n",
    "* 수학 문제: 컴퓨터를 이용한 반례 찾기\n",
    "* 긴 시간동안 참이라고 믿어진 문제가 거짓으로 판명되는 예제 등등\n",
    "* 다양한 에피소드"
   ]
  },
  {
   "cell_type": "markdown",
   "metadata": {},
   "source": [
    "# 강의 시간표\n",
    "\n",
    "1. 10:00 - 12:30\n",
    "1. 14:00 - 15:30\n",
    "1. 16:00 - 17:30\n",
    "\n",
    "\n",
    "* 오후 시간에 토론을 한 시간 추가하고 LPL 이야기는 논리연산자 수준에서만 전달하기\n",
    "* 양화사 이야기는 완전히 뺄 것\n",
    "* "
   ]
  },
  {
   "cell_type": "markdown",
   "metadata": {},
   "source": [
    "# 모순에 대해?"
   ]
  }
 ],
 "metadata": {
  "kernelspec": {
   "display_name": "Python 2",
   "language": "python",
   "name": "python2"
  },
  "language_info": {
   "codemirror_mode": {
    "name": "ipython",
    "version": 2
   },
   "file_extension": ".py",
   "mimetype": "text/x-python",
   "name": "python",
   "nbconvert_exporter": "python",
   "pygments_lexer": "ipython2",
   "version": "2.7.13"
  }
 },
 "nbformat": 4,
 "nbformat_minor": 2
}
