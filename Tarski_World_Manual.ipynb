{
 "cells": [
  {
   "cell_type": "markdown",
   "metadata": {},
   "source": [
    "# 타스키 월드(Tarski's World) 설명\n",
    "\n",
    "* 상단 맨 왼편의 다각형그림과 화살표 버튼\n",
    "* 화살표 버튼: 블록 추가하기\n",
    "* 각각의 블록 모양을 누르면 선택된 블록의 모양이 변경됨\n",
    "* 크기를 지정하려면 크기에 따른 동그라미 선택\n",
    "* 블록에 이름을 주려면 a부터 f까지 알파벳 선택\n",
    "    * 주의\n",
    "        * 한 블록에 한 개 이상의 이름을 줄 수 있음\n",
    "        * 두 블록에 동일한 이름을 줄 수 없음\n",
    "        * 이름이 없는 블록 존재 가능\n",
    "* 회전표시 기호: 좌우회전 및 2D 또는 3D 표현 선택 "
   ]
  },
  {
   "cell_type": "markdown",
   "metadata": {},
   "source": [
    "# 술어 설명"
   ]
  },
  {
   "cell_type": "markdown",
   "metadata": {},
   "source": [
    "### 블록의 모양을 나타내는 술어\n",
    "\n",
    "* Tet = 정사면체(Tetrahedron)\n",
    "* Cube = 정육면체\n",
    "* Dodec = 정십이면체(Dodecahedron)"
   ]
  },
  {
   "cell_type": "markdown",
   "metadata": {},
   "source": [
    "### 크기를 나타내는 술어\n",
    "\n",
    "* Small(a): a는 작다\n",
    "* Medium(a): a는 중간크기이다.\n",
    "* Large(a): a는 크다."
   ]
  },
  {
   "cell_type": "markdown",
   "metadata": {},
   "source": [
    "### 위치를 나타내는 술어\n",
    "\n",
    "* LeftOf(a, b): a는 b의 왼쪽에 위치한다.\n",
    "* RightOf(a, b): a는 b의 오른쪽에 위치한다.\n",
    "* FrontOf(a, b): a는 b의 앞쪽에 위치한다.\n",
    "* BackOf(a, b): a는 b의 뒷쪽에 위치한다.\n",
    "* SameCol(a, b): a와 b는 동일한 열에 위치한다.\n",
    "* SameRow(a, b): a와 b는 동일한 행에 위치한다.\n",
    "* Between(a, b, c): a는 b와 c의 사이에 위치한다.\n",
    "    * 주의: 동일한 행 또는 열, 또는 대각선 상에 위치할 때만 적용됨\n",
    "* Adjoins(a, b): a와 b는 서로 인접한다."
   ]
  },
  {
   "cell_type": "markdown",
   "metadata": {},
   "source": [
    "### 모양과 크기를 나타내는 술어\n",
    "\n",
    "* SameShape(a, b): a와 b는 모양이 동일하다.\n",
    "    * Tet, Cube, Dodec 기준\n",
    "* SameSize(a, b): a와 b는 크기가 동일하다.\n",
    "    * Small, Medium, Large 기준"
   ]
  },
  {
   "cell_type": "markdown",
   "metadata": {},
   "source": [
    "# 명제 추가 및 삭제 방식 설명\n",
    "\n",
    "* 화면 상단에 맨 오른편에 세로로 위치한 세 개의 버튼\n",
    "* Add Before: 현재 명제 바로 위에 명제 추가\n",
    "* Add After: 현재 명제 바로 아래에 명제 추가\n",
    "* Delete: 현재 마우스 커서가 위치한 명제 삭제"
   ]
  },
  {
   "cell_type": "markdown",
   "metadata": {},
   "source": [
    "# 명제들의 진리값 확인 방법\n",
    "\n",
    "* T/F 버튼을 누르면 현재 커서가 위치한 명제의 진리값 확인\n",
    "    * 진리값은 특정 월드가 정해진 상태에서만 확인 가능\n",
    "* T/FT/F 버튼: 모든 명제들이 진리값 확인\n",
    "* 그 옆 버튼: 게임버튼\n",
    "    * 게임요령은 강의노트 참조"
   ]
  }
 ],
 "metadata": {
  "kernelspec": {
   "display_name": "Python 2",
   "language": "python",
   "name": "python2"
  },
  "language_info": {
   "codemirror_mode": {
    "name": "ipython",
    "version": 2
   },
   "file_extension": ".py",
   "mimetype": "text/x-python",
   "name": "python",
   "nbconvert_exporter": "python",
   "pygments_lexer": "ipython2",
   "version": "2.7.13"
  }
 },
 "nbformat": 4,
 "nbformat_minor": 2
}
