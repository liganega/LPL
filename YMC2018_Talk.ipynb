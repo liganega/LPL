{
 "cells": [
  {
   "cell_type": "markdown",
   "metadata": {},
   "source": [
    "# 토론 활용\n",
    "\n",
    "* 진리의 상대성과 절대성\n",
    "    * 디멘션, 타스키 월드의 경우가 그러함.\n",
    "    * 일상에서도 시대와 장소에 따라 진리가 다르거나 변함\n",
    "    * 수학적 진리도 상대적인가?\n",
    "* 계산가능성(Computability)\n",
    "    * 튜링머신\n",
    "    * 이론과 실용 사이의 간극\n",
    "* 실수연산의 한계\n",
    "    * 파이썬 실수 연산 예제\n",
    "    * 아리안5호기 폭발\n",
    "    * http://www-labs.iro.umontreal.ca/~mignotte/IFT2425/Disasters.html\n",
    "* 컴퓨터 수학\n",
    "    * 컴퓨터를 이용한 반례 찾기\n",
    "    * 긴 시간동안 참이라고 믿어진 문제가 거짓으로 판명되는 예제 등등\n",
    "* 다양한 에피소드"
   ]
  },
  {
   "cell_type": "markdown",
   "metadata": {},
   "source": [
    "# 진리의 상대성과 절대성"
   ]
  },
  {
   "cell_type": "markdown",
   "metadata": {},
   "source": [
    "## 디멘션 게임에서의 진리\n",
    "\n",
    "* 제시된 카드와 구현된 디멘션 모델과의 관계"
   ]
  },
  {
   "cell_type": "markdown",
   "metadata": {},
   "source": [
    "<p>\n",
    "<table>\n",
    "<tr>\n",
    "<td>\n",
    "<img src=\"images/dimension01.jpg\", width=500>\n",
    "</td>\n",
    "</tr>\n",
    "</table>\n",
    "</p>"
   ]
  },
  {
   "cell_type": "markdown",
   "metadata": {},
   "source": [
    "## 일상에서의 진리\n",
    "\n",
    "* 지구는 태양을 중심으로 돈다.\n",
    "    * 프톨레마이오스(85~165)의 천동설\n",
    "    * 코페르니쿠스(1473~1543)의 지동성\n",
    "* 지구는 둥글다.\n",
    "    * 갈릴레이(1564~1642)\n",
    "* 신의 존재\n",
    "* 에셔의 전망대(1958)"
   ]
  },
  {
   "cell_type": "markdown",
   "metadata": {},
   "source": [
    "<p>\n",
    "<table>\n",
    "<tr>\n",
    "<td>\n",
    "<img src=\"images/esher_stairs01.gif\", width=500>\n",
    "</td>\n",
    "</tr>\n",
    "</table>\n",
    "</p>"
   ]
  },
  {
   "cell_type": "markdown",
   "metadata": {},
   "source": [
    "<p>\n",
    "<table>\n",
    "<tr>\n",
    "<td>\n",
    "<img src=\"images/esher_stairs02.jpg\", width=500>\n",
    "</td>\n",
    "</tr>\n",
    "</table>\n",
    "</p>"
   ]
  },
  {
   "cell_type": "code",
   "execution_count": 18,
   "metadata": {},
   "outputs": [
    {
     "name": "stdout",
     "output_type": "stream",
     "text": [
      "False\n"
     ]
    }
   ],
   "source": [
    "a = 1000000.0\n",
    "b = 0.00000000001\n",
    "x, y = 0.0, 0.0\n",
    "\n",
    "for i in range(1000000):\n",
    "    x += b\n",
    "x += a\n",
    "\n",
    "y += a\n",
    "for i in range(1000000):\n",
    "    y += b\n",
    "\n",
    "print(y == x)    "
   ]
  },
  {
   "cell_type": "code",
   "execution_count": 20,
   "metadata": {},
   "outputs": [
    {
     "name": "stdout",
     "output_type": "stream",
     "text": [
      "False\n"
     ]
    }
   ],
   "source": [
    "a = 1000000.0\n",
    "b = 0.00000000001\n",
    "x, y = 0.0, 0.0\n",
    "\n",
    "for i in range(1000000):\n",
    "    x += b\n",
    "x += a\n",
    "\n",
    "y += a\n",
    "for i in range(1000000):\n",
    "    y += b\n",
    "\n",
    "print(y > x)    "
   ]
  },
  {
   "cell_type": "code",
   "execution_count": 21,
   "metadata": {},
   "outputs": [
    {
     "name": "stdout",
     "output_type": "stream",
     "text": [
      "True\n"
     ]
    }
   ],
   "source": [
    "a = 1000000.0\n",
    "b = 0.00000000001\n",
    "x, y = 0.0, 0.0\n",
    "\n",
    "for i in range(1000000):\n",
    "    x += b\n",
    "x += a\n",
    "\n",
    "y += a\n",
    "for i in range(1000000):\n",
    "    y += b\n",
    "\n",
    "print(y < x)    "
   ]
  },
  {
   "cell_type": "code",
   "execution_count": 22,
   "metadata": {},
   "outputs": [
    {
     "name": "stdout",
     "output_type": "stream",
     "text": [
      "True\n"
     ]
    }
   ],
   "source": [
    "a = 1000000.0\n",
    "b = 0.00000000001\n",
    "x, y = 0.0, 0.0\n",
    "\n",
    "for i in range(1000000):\n",
    "    x += b\n",
    "x += a\n",
    "\n",
    "y += a\n",
    "for i in range(10000000):\n",
    "    y += b\n",
    "\n",
    "print(y < x)    "
   ]
  }
 ],
 "metadata": {
  "kernelspec": {
   "display_name": "Python 2",
   "language": "python",
   "name": "python2"
  },
  "language_info": {
   "codemirror_mode": {
    "name": "ipython",
    "version": 2
   },
   "file_extension": ".py",
   "mimetype": "text/x-python",
   "name": "python",
   "nbconvert_exporter": "python",
   "pygments_lexer": "ipython2",
   "version": "2.7.13"
  }
 },
 "nbformat": 4,
 "nbformat_minor": 2
}
